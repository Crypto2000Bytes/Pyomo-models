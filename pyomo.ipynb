{
  "nbformat": 4,
  "nbformat_minor": 0,
  "metadata": {
    "colab": {
      "name": "pyomo.ipynb",
      "provenance": [],
      "authorship_tag": "ABX9TyOh7qglZXjd30G5KppsfWoG",
      "include_colab_link": true
    },
    "kernelspec": {
      "name": "python3",
      "display_name": "Python 3"
    },
    "language_info": {
      "name": "python"
    }
  },
  "cells": [
    {
      "cell_type": "markdown",
      "metadata": {
        "id": "view-in-github",
        "colab_type": "text"
      },
      "source": [
        "<a href=\"https://colab.research.google.com/github/Crypto2000Bytes/Pyomo-models/blob/main/pyomo.ipynb\" target=\"_parent\"><img src=\"https://colab.research.google.com/assets/colab-badge.svg\" alt=\"Open In Colab\"/></a>"
      ]
    },
    {
      "cell_type": "code",
      "metadata": {
        "colab": {
          "base_uri": "https://localhost:8080/"
        },
        "id": "u4FfCKddQu2D",
        "outputId": "8687bb3c-4752-4c92-abe2-a77a123e8b0a"
      },
      "source": [
        "!pip install -q pyomo\n"
      ],
      "execution_count": 1,
      "outputs": [
        {
          "output_type": "stream",
          "name": "stdout",
          "text": [
            "\u001b[K     |████████████████████████████████| 9.1 MB 6.3 MB/s \n",
            "\u001b[K     |████████████████████████████████| 49 kB 4.6 MB/s \n",
            "\u001b[?25h"
          ]
        }
      ]
    },
    {
      "cell_type": "code",
      "metadata": {
        "colab": {
          "base_uri": "https://localhost:8080/"
        },
        "id": "DzcijZ5IQ-5E",
        "outputId": "e9385f68-df54-4276-9080-2f0826a9cd24"
      },
      "source": [
        "!apt-get install -y -qq glpk-utils\n"
      ],
      "execution_count": 3,
      "outputs": [
        {
          "output_type": "stream",
          "name": "stdout",
          "text": [
            "Selecting previously unselected package libsuitesparseconfig5:amd64.\n",
            "(Reading database ... 148492 files and directories currently installed.)\n",
            "Preparing to unpack .../libsuitesparseconfig5_1%3a5.1.2-2_amd64.deb ...\n",
            "Unpacking libsuitesparseconfig5:amd64 (1:5.1.2-2) ...\n",
            "Selecting previously unselected package libamd2:amd64.\n",
            "Preparing to unpack .../libamd2_1%3a5.1.2-2_amd64.deb ...\n",
            "Unpacking libamd2:amd64 (1:5.1.2-2) ...\n",
            "Selecting previously unselected package libcolamd2:amd64.\n",
            "Preparing to unpack .../libcolamd2_1%3a5.1.2-2_amd64.deb ...\n",
            "Unpacking libcolamd2:amd64 (1:5.1.2-2) ...\n",
            "Selecting previously unselected package libglpk40:amd64.\n",
            "Preparing to unpack .../libglpk40_4.65-1_amd64.deb ...\n",
            "Unpacking libglpk40:amd64 (4.65-1) ...\n",
            "Selecting previously unselected package glpk-utils.\n",
            "Preparing to unpack .../glpk-utils_4.65-1_amd64.deb ...\n",
            "Unpacking glpk-utils (4.65-1) ...\n",
            "Setting up libsuitesparseconfig5:amd64 (1:5.1.2-2) ...\n",
            "Setting up libcolamd2:amd64 (1:5.1.2-2) ...\n",
            "Setting up libamd2:amd64 (1:5.1.2-2) ...\n",
            "Setting up libglpk40:amd64 (4.65-1) ...\n",
            "Setting up glpk-utils (4.65-1) ...\n",
            "Processing triggers for libc-bin (2.27-3ubuntu1.2) ...\n",
            "/sbin/ldconfig.real: /usr/local/lib/python3.7/dist-packages/ideep4py/lib/libmkldnn.so.0 is not a symbolic link\n",
            "\n",
            "Processing triggers for man-db (2.8.3-2ubuntu0.1) ...\n"
          ]
        }
      ]
    },
    {
      "cell_type": "code",
      "metadata": {
        "id": "540MsvRBRYUi"
      },
      "source": [
        "%matplotlib inline\n",
        "import matplotlib.pyplot as plt\n",
        "import pyomo.environ as pyo\n",
        "from pyomo.environ import *\n",
        "from pyomo.opt import SolverFactory\n",
        "import pandas as pd\n",
        "import numpy as np\n",
        "import time\n"
      ],
      "execution_count": 72,
      "outputs": []
    },
    {
      "cell_type": "code",
      "metadata": {
        "colab": {
          "base_uri": "https://localhost:8080/"
        },
        "id": "zoLb3mM5R9Um",
        "outputId": "7993f9eb-22f6-4af8-e4e8-84d0704fdffb"
      },
      "source": [
        "from google.colab import drive\n",
        "drive.mount('/content/drive')"
      ],
      "execution_count": 73,
      "outputs": [
        {
          "output_type": "stream",
          "name": "stdout",
          "text": [
            "Drive already mounted at /content/drive; to attempt to forcibly remount, call drive.mount(\"/content/drive\", force_remount=True).\n"
          ]
        }
      ]
    },
    {
      "cell_type": "code",
      "metadata": {
        "id": "WXfD5CReSptS"
      },
      "source": [
        "dataGen = pd.read_excel('/content/drive/MyDrive/inputs.xlsx', sheet_name='gen')\n",
        "dataLoad = pd.read_excel('/content/drive/MyDrive/inputs.xlsx', sheet_name='load')\n",
        "Ng = len(dataGen)"
      ],
      "execution_count": 74,
      "outputs": []
    },
    {
      "cell_type": "code",
      "metadata": {
        "id": "8-VuSHGgTq3e"
      },
      "source": [
        "model = pyo.ConcreteModel()"
      ],
      "execution_count": 75,
      "outputs": []
    },
    {
      "cell_type": "code",
      "metadata": {
        "id": "mScYSKcgTYnE"
      },
      "source": [
        "model.Pg = pyo.Var(range(0,Ng), bounds = (0,np.inf))\n",
        "Pg = model.Pg"
      ],
      "execution_count": 76,
      "outputs": []
    },
    {
      "cell_type": "code",
      "metadata": {
        "id": "o_hH4TqBTiUT"
      },
      "source": [
        "# Constraints\n",
        "#balans\n",
        "\n",
        "Pg_sum = sum(Pg[i] for i in dataGen.id )\n",
        "Pd = dataLoad.value\n",
        "Pd_sum = sum(Pd[i] for i in dataLoad.id)\n",
        "model.balans = pyo.Constraint(expr = Pg_sum == Pd_sum)"
      ],
      "execution_count": 77,
      "outputs": []
    },
    {
      "cell_type": "code",
      "metadata": {
        "id": "VKIO7Z2SUtlA"
      },
      "source": [
        "# Pg[0]+ Pg[3] => Pd[0]\n",
        "\n",
        "model.con1 = pyo.Constraint(expr = Pg[0]+Pg[3]==Pd[0])"
      ],
      "execution_count": 78,
      "outputs": []
    },
    {
      "cell_type": "code",
      "metadata": {
        "id": "F4AM0-j9VMjy"
      },
      "source": [
        "#limits\n",
        "model.limits = pyo.ConstraintList()\n",
        "for i in dataGen.id:\n",
        "  model.limits.add(Pg[i]<=dataGen.limit[i])\n"
      ],
      "execution_count": 79,
      "outputs": []
    },
    {
      "cell_type": "code",
      "metadata": {
        "id": "6-9ggYLIWZCI"
      },
      "source": [
        "#Objective\n",
        "\n",
        "model.obj = pyo.Objective(expr = sum(dataGen.cost[i] * Pg[i]for i in dataGen.id))"
      ],
      "execution_count": 80,
      "outputs": []
    },
    {
      "cell_type": "code",
      "metadata": {
        "id": "XplASnVyV7Pn"
      },
      "source": [
        "start_tijd = time.time()\n",
        "opt = pyo.SolverFactory('glpk')\n",
        "opt.solve(model)\n",
        "eind_tijd = time.time()-start_tijd"
      ],
      "execution_count": 81,
      "outputs": []
    },
    {
      "cell_type": "code",
      "metadata": {
        "colab": {
          "base_uri": "https://localhost:8080/",
          "height": 1000
        },
        "id": "vpPZvFX6XhIU",
        "outputId": "bdac82de-685e-43cf-97a2-0355228fa60a"
      },
      "source": [
        "model.pprint()\n",
        "print('\\n**********************\\n')\n",
        "print(eind_tijd)\n",
        "print('\\n**********************\\n')\n",
        "dataGen['Pg'] = [pyo.value(Pg[i])for i in dataGen.id]\n",
        "print(dataGen)\n",
        "\n",
        "plt.plot([pyo.value(Pg[i])for i in dataGen.id],'r') #produced energy\n",
        "plt.plot([dataGen.limit[i]for i in dataGen.id],'b') # limits\n"
      ],
      "execution_count": 90,
      "outputs": [
        {
          "output_type": "stream",
          "name": "stdout",
          "text": [
            "2 Set Declarations\n",
            "    Pg_index : Size=1, Index=None, Ordered=False\n",
            "        Key  : Dimen : Domain : Size : Members\n",
            "        None :     1 :    Any :    5 : {0, 1, 2, 3, 4}\n",
            "    limits_index : Size=1, Index=None, Ordered=Insertion\n",
            "        Key  : Dimen : Domain : Size : Members\n",
            "        None :     1 :    Any :    5 : {1, 2, 3, 4, 5}\n",
            "\n",
            "1 Var Declarations\n",
            "    Pg : Size=5, Index=Pg_index\n",
            "        Key : Lower : Value : Upper : Fixed : Stale : Domain\n",
            "          0 :     0 :  20.0 :   inf : False : False :  Reals\n",
            "          1 :     0 :  10.0 :   inf : False : False :  Reals\n",
            "          2 :     0 :  35.0 :   inf : False : False :  Reals\n",
            "          3 :     0 :  30.0 :   inf : False : False :  Reals\n",
            "          4 :     0 :   5.0 :   inf : False : False :  Reals\n",
            "\n",
            "1 Objective Declarations\n",
            "    obj : Size=1, Index=None, Active=True\n",
            "        Key  : Active : Sense    : Expression\n",
            "        None :   True : minimize : 0.1*Pg[0] + 0.05*Pg[1] + 0.3*Pg[2] + 0.4*Pg[3] + 0.01*Pg[4]\n",
            "\n",
            "3 Constraint Declarations\n",
            "    balans : Size=1, Index=None, Active=True\n",
            "        Key  : Lower : Body                                  : Upper : Active\n",
            "        None : 100.0 : Pg[0] + Pg[1] + Pg[2] + Pg[3] + Pg[4] : 100.0 :   True\n",
            "    con1 : Size=1, Index=None, Active=True\n",
            "        Key  : Lower : Body          : Upper : Active\n",
            "        None :  50.0 : Pg[0] + Pg[3] :  50.0 :   True\n",
            "    limits : Size=5, Index=limits_index, Active=True\n",
            "        Key : Lower : Body  : Upper : Active\n",
            "          1 :  -Inf : Pg[0] :  20.0 :   True\n",
            "          2 :  -Inf : Pg[1] :  10.0 :   True\n",
            "          3 :  -Inf : Pg[2] :  40.0 :   True\n",
            "          4 :  -Inf : Pg[3] :  50.0 :   True\n",
            "          5 :  -Inf : Pg[4] :   5.0 :   True\n",
            "\n",
            "7 Declarations: Pg_index Pg balans con1 limits_index limits obj\n",
            "\n",
            "**********************\n",
            "\n",
            "0.02235126495361328\n",
            "\n",
            "**********************\n",
            "\n",
            "   id  limit  cost    Pg\n",
            "0   0     20  0.10  20.0\n",
            "1   1     10  0.05  10.0\n",
            "2   2     40  0.30  35.0\n",
            "3   3     50  0.40  30.0\n",
            "4   4      5  0.01   5.0\n"
          ]
        },
        {
          "output_type": "execute_result",
          "data": {
            "text/plain": [
              "[<matplotlib.lines.Line2D at 0x7f2aae81d550>]"
            ]
          },
          "metadata": {},
          "execution_count": 90
        },
        {
          "output_type": "display_data",
          "data": {
            "image/png": "[encoded data removed]",
            "text/plain": [
              "<Figure size 432x288 with 1 Axes>"
            ]
          },
          "metadata": {
            "needs_background": "light"
          }
        }
      ]
    },
    {
      "cell_type": "markdown",
      "metadata": {
        "id": "RXtRYUhCVHU1"
      },
      "source": [
        ""
      ]
    }
  ]
}