{
  "nbformat": 4,
  "nbformat_minor": 0,
  "metadata": {
    "colab": {
      "name": "Untitled5.ipynb",
      "provenance": [],
      "mount_file_id": "1IHfAYhOtfiIyqE7QOsg4J5r3i9l-8RJb",
      "authorship_tag": "ABX9TyOkukNOzdxD84Mpl+E2GN3I",
      "include_colab_link": true
    },
    "kernelspec": {
      "name": "python3",
      "display_name": "Python 3"
    },
    "language_info": {
      "name": "python"
    }
  },
  "cells": [
    {
      "cell_type": "markdown",
      "metadata": {
        "id": "view-in-github",
        "colab_type": "text"
      },
      "source": [
        "<a href=\"https://colab.research.google.com/github/Crypto2000Bytes/Pyomo-models/blob/main/Generators.ipynb\" target=\"_parent\"><img src=\"https://colab.research.google.com/assets/colab-badge.svg\" alt=\"Open In Colab\"/></a>"
      ]
    },
    {
      "cell_type": "code",
      "metadata": {
        "id": "kt5uRuMy4Cbq"
      },
      "source": [
        "!pip install -q pyomo\n"
      ],
      "execution_count": 9,
      "outputs": []
    },
    {
      "cell_type": "code",
      "metadata": {
        "id": "wCy0PmCB4JGR"
      },
      "source": [
        "!apt-get install -y -qq glpk-utils\n"
      ],
      "execution_count": 10,
      "outputs": []
    },
    {
      "cell_type": "code",
      "metadata": {
        "colab": {
          "base_uri": "https://localhost:8080/"
        },
        "id": "7Z3pSfMd4mQB",
        "outputId": "08f804f3-82ba-46ea-ce6c-26866e2bd4d2"
      },
      "source": [
        "import pyomo.environ as pyo\n",
        "from pyomo.environ import *\n",
        "from pyomo.opt import SolverFactory\n",
        "import pandas as pd\n",
        "import numpy as np\n",
        "import time\n",
        "\n",
        "#importeer de excel.files\n",
        "\n",
        "dataGen = pd.read_excel(\"/content/drive/MyDrive/inputs.xlsx\", sheet_name = \"gen\")\n",
        "print(dataGen)\n",
        "dataLoad = pd.read_excel(\"/content/drive/MyDrive/inputs.xlsx\", sheet_name = \"load\")\n",
        "print(dataLoad)\n",
        "Ng = len(dataGen)\n",
        "#model\n",
        "model = pyo.ConcreteModel()\n",
        "\n",
        "#Variabele, er is een variabele namelij Pg: energie van een generator\n",
        "model.Pg = pyo.Var(range(Ng), bounds = (0, None))\n",
        "Pg = model.Pg\n",
        "\n",
        "#Restricties:\n",
        "\n",
        "# 1.Balans\n",
        "Pg_sum = sum([Pg[i] for i in dataGen.id])\n",
        "Pd = dataLoad.value\n",
        "Pd_sum = sum([Pd[i] for i in dataLoad.id])\n",
        "model.balans = pyo.Constraint(expr = Pg_sum == Pd_sum)\n",
        "\n",
        "#2. Laadpunt 0 wordt van energie voorzien door generator 0 & 3\n",
        "model.con1 = pyo.Constraint(expr = Pg[0] + Pg[3] >= Pd[0])\n",
        "\n",
        "# 3. limieten van de generatoren\n",
        "model.limits = pyo.ConstraintList()\n",
        "for i in dataGen.id:\n",
        "  model.limits.add(expr = Pg[i] <= dataGen.limit[i])\n",
        "\n",
        "# Objective\n",
        "model.obj = pyo.Objective(expr = sum([dataGen.cost[i]*Pg[i] for i in dataGen.id]))\n",
        "\n",
        "# Solver \n",
        "tijd_start = time.time()\n",
        "opt = pyo.SolverFactory('glpk')\n",
        "opt.solve(model)\n",
        "eind_tijd = time.time()-tijd_start\n",
        "\n",
        "model.pprint()\n",
        "dataGen['Pg'] = [pyo.value(Pg[i]) for i in dataGen.id]\n",
        "print(\"tijd\", eind_tijd)\n",
        "print(dataGen)"
      ],
      "execution_count": 19,
      "outputs": [
        {
          "output_type": "stream",
          "name": "stdout",
          "text": [
            "   id  limit  cost\n",
            "0   0     20  0.10\n",
            "1   1     10  0.05\n",
            "2   2     40  0.30\n",
            "3   3     50  0.40\n",
            "4   4      5  0.01\n",
            "   id  value\n",
            "0   0     50\n",
            "1   1     20\n",
            "2   2     30\n",
            "2 Set Declarations\n",
            "    Pg_index : Size=1, Index=None, Ordered=False\n",
            "        Key  : Dimen : Domain : Size : Members\n",
            "        None :     1 :    Any :    5 : {0, 1, 2, 3, 4}\n",
            "    limits_index : Size=1, Index=None, Ordered=Insertion\n",
            "        Key  : Dimen : Domain : Size : Members\n",
            "        None :     1 :    Any :    5 : {1, 2, 3, 4, 5}\n",
            "\n",
            "1 Var Declarations\n",
            "    Pg : Size=5, Index=Pg_index\n",
            "        Key : Lower : Value : Upper : Fixed : Stale : Domain\n",
            "          0 :     0 :  20.0 :  None : False : False :  Reals\n",
            "          1 :     0 :  10.0 :  None : False : False :  Reals\n",
            "          2 :     0 :  35.0 :  None : False : False :  Reals\n",
            "          3 :     0 :  30.0 :  None : False : False :  Reals\n",
            "          4 :     0 :   5.0 :  None : False : False :  Reals\n",
            "\n",
            "1 Objective Declarations\n",
            "    obj : Size=1, Index=None, Active=True\n",
            "        Key  : Active : Sense    : Expression\n",
            "        None :   True : minimize : 0.1*Pg[0] + 0.05*Pg[1] + 0.3*Pg[2] + 0.4*Pg[3] + 0.01*Pg[4]\n",
            "\n",
            "3 Constraint Declarations\n",
            "    balans : Size=1, Index=None, Active=True\n",
            "        Key  : Lower : Body                                  : Upper : Active\n",
            "        None : 100.0 : Pg[0] + Pg[1] + Pg[2] + Pg[3] + Pg[4] : 100.0 :   True\n",
            "    con1 : Size=1, Index=None, Active=True\n",
            "        Key  : Lower : Body          : Upper : Active\n",
            "        None :  50.0 : Pg[0] + Pg[3] :  +Inf :   True\n",
            "    limits : Size=5, Index=limits_index, Active=True\n",
            "        Key : Lower : Body  : Upper : Active\n",
            "          1 :  -Inf : Pg[0] :  20.0 :   True\n",
            "          2 :  -Inf : Pg[1] :  10.0 :   True\n",
            "          3 :  -Inf : Pg[2] :  40.0 :   True\n",
            "          4 :  -Inf : Pg[3] :  50.0 :   True\n",
            "          5 :  -Inf : Pg[4] :   5.0 :   True\n",
            "\n",
            "7 Declarations: Pg_index Pg balans con1 limits_index limits obj\n",
            "tijd 0.027863740921020508\n",
            "   id  limit  cost    Pg\n",
            "0   0     20  0.10  20.0\n",
            "1   1     10  0.05  10.0\n",
            "2   2     40  0.30  35.0\n",
            "3   3     50  0.40  30.0\n",
            "4   4      5  0.01   5.0\n"
          ]
        }
      ]
    }
  ]
}