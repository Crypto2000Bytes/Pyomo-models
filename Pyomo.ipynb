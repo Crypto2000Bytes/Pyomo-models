{
  "nbformat": 4,
  "nbformat_minor": 0,
  "metadata": {
    "colab": {
      "name": "Pyomo.ipynb",
      "provenance": [],
      "collapsed_sections": [],
      "authorship_tag": "ABX9TyPuzTblSv6liCm1zpT9o8cf",
      "include_colab_link": true
    },
    "kernelspec": {
      "name": "python3",
      "display_name": "Python 3"
    },
    "language_info": {
      "name": "python"
    }
  },
  "cells": [
    {
      "cell_type": "markdown",
      "metadata": {
        "id": "view-in-github",
        "colab_type": "text"
      },
      "source": [
        "<a href=\"https://colab.research.google.com/github/Crypto2000Bytes/Pyomo-models/blob/main/Pyomo.ipynb\" target=\"_parent\"><img src=\"https://colab.research.google.com/assets/colab-badge.svg\" alt=\"Open In Colab\"/></a>"
      ]
    },
    {
      "cell_type": "markdown",
      "metadata": {
        "id": "13i9GTMFqt81"
      },
      "source": [
        "Algemene installatie van de Pyomo omgeving"
      ]
    },
    {
      "cell_type": "code",
      "metadata": {
        "colab": {
          "base_uri": "https://localhost:8080/"
        },
        "id": "iiP87OlInOSC",
        "outputId": "fe77d246-d921-42bc-bb63-c0df5868e52c"
      },
      "source": [
        "!pip install -q pyomo"
      ],
      "execution_count": null,
      "outputs": [
        {
          "output_type": "stream",
          "text": [
            "\u001b[K     |████████████████████████████████| 9.1 MB 5.0 MB/s \n",
            "\u001b[K     |████████████████████████████████| 49 kB 4.4 MB/s \n",
            "\u001b[?25h"
          ],
          "name": "stdout"
        }
      ]
    },
    {
      "cell_type": "code",
      "metadata": {
        "colab": {
          "base_uri": "https://localhost:8080/"
        },
        "id": "ajFR28pYnbEJ",
        "outputId": "b34b9c10-5908-4d9c-d3d3-b3951d352826"
      },
      "source": [
        "!apt-get install -y -qq glpk-utils\n"
      ],
      "execution_count": null,
      "outputs": [
        {
          "output_type": "stream",
          "text": [
            "Selecting previously unselected package libsuitesparseconfig5:amd64.\n",
            "(Reading database ... 148489 files and directories currently installed.)\n",
            "Preparing to unpack .../libsuitesparseconfig5_1%3a5.1.2-2_amd64.deb ...\n",
            "Unpacking libsuitesparseconfig5:amd64 (1:5.1.2-2) ...\n",
            "Selecting previously unselected package libamd2:amd64.\n",
            "Preparing to unpack .../libamd2_1%3a5.1.2-2_amd64.deb ...\n",
            "Unpacking libamd2:amd64 (1:5.1.2-2) ...\n",
            "Selecting previously unselected package libcolamd2:amd64.\n",
            "Preparing to unpack .../libcolamd2_1%3a5.1.2-2_amd64.deb ...\n",
            "Unpacking libcolamd2:amd64 (1:5.1.2-2) ...\n",
            "Selecting previously unselected package libglpk40:amd64.\n",
            "Preparing to unpack .../libglpk40_4.65-1_amd64.deb ...\n",
            "Unpacking libglpk40:amd64 (4.65-1) ...\n",
            "Selecting previously unselected package glpk-utils.\n",
            "Preparing to unpack .../glpk-utils_4.65-1_amd64.deb ...\n",
            "Unpacking glpk-utils (4.65-1) ...\n",
            "Setting up libsuitesparseconfig5:amd64 (1:5.1.2-2) ...\n",
            "Setting up libcolamd2:amd64 (1:5.1.2-2) ...\n",
            "Setting up libamd2:amd64 (1:5.1.2-2) ...\n",
            "Setting up libglpk40:amd64 (4.65-1) ...\n",
            "Setting up glpk-utils (4.65-1) ...\n",
            "Processing triggers for libc-bin (2.27-3ubuntu1.2) ...\n",
            "/sbin/ldconfig.real: /usr/local/lib/python3.7/dist-packages/ideep4py/lib/libmkldnn.so.0 is not a symbolic link\n",
            "\n",
            "Processing triggers for man-db (2.8.3-2ubuntu0.1) ...\n"
          ],
          "name": "stdout"
        }
      ]
    },
    {
      "cell_type": "markdown",
      "metadata": {
        "id": "0bcMdg9Yqdoo"
      },
      "source": [
        "COIN-OR CBC solver installatie voor MILP "
      ]
    },
    {
      "cell_type": "code",
      "metadata": {
        "colab": {
          "base_uri": "https://localhost:8080/"
        },
        "id": "Edv2tms5oJO2",
        "outputId": "cfb583c1-661f-4a81-a313-1e2838203b4f"
      },
      "source": [
        "!apt-get install -y -qq coinor-cbc\n"
      ],
      "execution_count": null,
      "outputs": [
        {
          "output_type": "stream",
          "text": [
            "Selecting previously unselected package coinor-libcoinutils3v5.\n",
            "(Reading database ... \r(Reading database ... 5%\r(Reading database ... 10%\r(Reading database ... 15%\r(Reading database ... 20%\r(Reading database ... 25%\r(Reading database ... 30%\r(Reading database ... 35%\r(Reading database ... 40%\r(Reading database ... 45%\r(Reading database ... 50%\r(Reading database ... 55%\r(Reading database ... 60%\r(Reading database ... 65%\r(Reading database ... 70%\r(Reading database ... 75%\r(Reading database ... 80%\r(Reading database ... 85%\r(Reading database ... 90%\r(Reading database ... 95%\r(Reading database ... 100%\r(Reading database ... 148692 files and directories currently installed.)\n",
            "Preparing to unpack .../0-coinor-libcoinutils3v5_2.10.14+repack1-1_amd64.deb ...\n",
            "Unpacking coinor-libcoinutils3v5 (2.10.14+repack1-1) ...\n",
            "Selecting previously unselected package coinor-libosi1v5.\n",
            "Preparing to unpack .../1-coinor-libosi1v5_0.107.9+repack1-1_amd64.deb ...\n",
            "Unpacking coinor-libosi1v5 (0.107.9+repack1-1) ...\n",
            "Selecting previously unselected package coinor-libclp1.\n",
            "Preparing to unpack .../2-coinor-libclp1_1.16.11+repack1-1_amd64.deb ...\n",
            "Unpacking coinor-libclp1 (1.16.11+repack1-1) ...\n",
            "Selecting previously unselected package coinor-libcgl1.\n",
            "Preparing to unpack .../3-coinor-libcgl1_0.59.10+repack1-1_amd64.deb ...\n",
            "Unpacking coinor-libcgl1 (0.59.10+repack1-1) ...\n",
            "Selecting previously unselected package coinor-libcbc3.\n",
            "Preparing to unpack .../4-coinor-libcbc3_2.9.9+repack1-1_amd64.deb ...\n",
            "Unpacking coinor-libcbc3 (2.9.9+repack1-1) ...\n",
            "Selecting previously unselected package coinor-cbc.\n",
            "Preparing to unpack .../5-coinor-cbc_2.9.9+repack1-1_amd64.deb ...\n",
            "Unpacking coinor-cbc (2.9.9+repack1-1) ...\n",
            "Setting up coinor-libcoinutils3v5 (2.10.14+repack1-1) ...\n",
            "Setting up coinor-libosi1v5 (0.107.9+repack1-1) ...\n",
            "Setting up coinor-libclp1 (1.16.11+repack1-1) ...\n",
            "Setting up coinor-libcgl1 (0.59.10+repack1-1) ...\n",
            "Setting up coinor-libcbc3 (2.9.9+repack1-1) ...\n",
            "Setting up coinor-cbc (2.9.9+repack1-1) ...\n",
            "Processing triggers for man-db (2.8.3-2ubuntu0.1) ...\n",
            "Processing triggers for libc-bin (2.27-3ubuntu1.2) ...\n",
            "/sbin/ldconfig.real: /usr/local/lib/python3.7/dist-packages/ideep4py/lib/libmkldnn.so.0 is not a symbolic link\n",
            "\n"
          ],
          "name": "stdout"
        }
      ]
    },
    {
      "cell_type": "markdown",
      "metadata": {
        "id": "iwx0yQkHpN-s"
      },
      "source": [
        "COIN-OR IPOPT- solver installatie voor NLP"
      ]
    },
    {
      "cell_type": "code",
      "metadata": {
        "id": "qt6J2STdoWjv"
      },
      "source": [
        "!wget -N -q \"https://ampl.com/dl/open/ipopt/ipopt-linux64.zip\"\n",
        "!unzip -o -q ipopt-linux64"
      ],
      "execution_count": null,
      "outputs": []
    },
    {
      "cell_type": "markdown",
      "metadata": {
        "id": "IOIyt1dPpWLF"
      },
      "source": [
        "COIN-OR BONMIN-solver installatie voor MINLP"
      ]
    },
    {
      "cell_type": "code",
      "metadata": {
        "id": "RBWXD9kRo_8J"
      },
      "source": [
        "!wget -N -q \"https://ampl.com/dl/open/bonmin/bonmin-linux64.zip\"\n",
        "!unzip -o -q bonmin-linux64"
      ],
      "execution_count": null,
      "outputs": []
    },
    {
      "cell_type": "markdown",
      "metadata": {
        "id": "mj9QwYHJr9dB"
      },
      "source": [
        "imports"
      ]
    },
    {
      "cell_type": "code",
      "metadata": {
        "id": "_Ex4-1ljq0b7"
      },
      "source": [
        "\n",
        "from pyomo.environ import *\n",
        "from pyomo.opt import SolverFactory\n"
      ],
      "execution_count": 46,
      "outputs": []
    },
    {
      "cell_type": "markdown",
      "metadata": {
        "id": "gI_5w9Ydr_6s"
      },
      "source": [
        "Creatie van het model object"
      ]
    },
    {
      "cell_type": "code",
      "metadata": {
        "id": "xfTnR34lsDgZ"
      },
      "source": [
        "model = ConcreteModel()\n",
        "# je kunt ook een abstact model creeren met pyo.AbstracteModel() voor onbekende invoerdata"
      ],
      "execution_count": 64,
      "outputs": []
    },
    {
      "cell_type": "markdown",
      "metadata": {
        "id": "bVO1bX74se9f"
      },
      "source": [
        "Creatie van de variabelen"
      ]
    },
    {
      "cell_type": "code",
      "metadata": {
        "colab": {
          "base_uri": "https://localhost:8080/"
        },
        "id": "_3qONIYrsj9J",
        "outputId": "157a47da-8871-4647-ab4d-1ab60962aba9"
      },
      "source": [
        "model.x = Var(within = NonNegativeReals)\n",
        "model.y = Var(within = NonNegativeReals)\n",
        "x = model.x\n",
        "y = model.y"
      ],
      "execution_count": 67,
      "outputs": [
        {
          "output_type": "stream",
          "text": [
            "WARNING: Implicitly replacing the Component attribute x (type=<class\n",
            "    'pyomo.core.base.var.ScalarVar'>) on block unknown with a new Component\n",
            "    (type=<class 'pyomo.core.base.var.ScalarVar'>). This is usually indicative\n",
            "    of a modelling error. To avoid this warning, use block.del_component() and\n",
            "    block.add_component().\n",
            "WARNING: Implicitly replacing the Component attribute y (type=<class\n",
            "    'pyomo.core.base.var.ScalarVar'>) on block unknown with a new Component\n",
            "    (type=<class 'pyomo.core.base.var.ScalarVar'>). This is usually indicative\n",
            "    of a modelling error. To avoid this warning, use block.del_component() and\n",
            "    block.add_component().\n"
          ],
          "name": "stdout"
        }
      ]
    },
    {
      "cell_type": "markdown",
      "metadata": {
        "id": "1zJYvHzstReh"
      },
      "source": [
        "Model objectief"
      ]
    },
    {
      "cell_type": "code",
      "metadata": {
        "colab": {
          "base_uri": "https://localhost:8080/"
        },
        "id": "iVOF--nNtXDA",
        "outputId": "af1aea28-3981-4012-f432-da3ef3ae4501"
      },
      "source": [
        "model.obj = Objective(expr = x + 3*y, sense = maximize)\n"
      ],
      "execution_count": 69,
      "outputs": [
        {
          "output_type": "stream",
          "text": [
            "WARNING: Implicitly replacing the Component attribute obj (type=<class\n",
            "    'pyomo.core.base.objective.ScalarObjective'>) on block unknown with a new\n",
            "    Component (type=<class 'pyomo.core.base.objective.ScalarObjective'>). This\n",
            "    is usually indicative of a modelling error. To avoid this warning, use\n",
            "    block.del_component() and block.add_component().\n"
          ],
          "name": "stdout"
        }
      ]
    },
    {
      "cell_type": "markdown",
      "metadata": {
        "id": "VHDzKnxutmtY"
      },
      "source": [
        "De restricties"
      ]
    },
    {
      "cell_type": "code",
      "metadata": {
        "colab": {
          "base_uri": "https://localhost:8080/"
        },
        "id": "ZwOVE8-OtpG4",
        "outputId": "de6efe4e-9a98-4331-9024-4c7dd0a5ed25"
      },
      "source": [
        "model.con1 = Constraint(expr = x + 2*y <= 10)\n",
        "model.con2 = Constraint(expr = 3*x + y <= 14)\n",
        "model.con3 = Constraint(expr = x + 4*y <= 8)"
      ],
      "execution_count": 71,
      "outputs": [
        {
          "output_type": "stream",
          "text": [
            "WARNING: Implicitly replacing the Component attribute con1 (type=<class\n",
            "    'pyomo.core.base.constraint.ScalarConstraint'>) on block unknown with a\n",
            "    new Component (type=<class\n",
            "    'pyomo.core.base.constraint.AbstractScalarConstraint'>). This is usually\n",
            "    indicative of a modelling error. To avoid this warning, use\n",
            "    block.del_component() and block.add_component().\n",
            "WARNING: Implicitly replacing the Component attribute con2 (type=<class\n",
            "    'pyomo.core.base.constraint.ScalarConstraint'>) on block unknown with a\n",
            "    new Component (type=<class\n",
            "    'pyomo.core.base.constraint.AbstractScalarConstraint'>). This is usually\n",
            "    indicative of a modelling error. To avoid this warning, use\n",
            "    block.del_component() and block.add_component().\n",
            "WARNING: Implicitly replacing the Component attribute con3 (type=<class\n",
            "    'pyomo.core.base.constraint.ScalarConstraint'>) on block unknown with a\n",
            "    new Component (type=<class\n",
            "    'pyomo.core.base.constraint.AbstractScalarConstraint'>). This is usually\n",
            "    indicative of a modelling error. To avoid this warning, use\n",
            "    block.del_component() and block.add_component().\n"
          ],
          "name": "stdout"
        }
      ]
    },
    {
      "cell_type": "markdown",
      "metadata": {
        "id": "XA9P8RoPuI8-"
      },
      "source": [
        "Create solver en de optimalisatie"
      ]
    },
    {
      "cell_type": "code",
      "metadata": {
        "colab": {
          "base_uri": "https://localhost:8080/"
        },
        "id": "mG8O31oHuN7x",
        "outputId": "3038d0df-c404-4561-a7b6-7b164b67788f"
      },
      "source": [
        "opt = SolverFactory(\"ipopt\")\n",
        "opt.solve(model)\n"
      ],
      "execution_count": 72,
      "outputs": [
        {
          "output_type": "execute_result",
          "data": {
            "text/plain": [
              "{'Problem': [{'Lower bound': -inf, 'Upper bound': inf, 'Number of objectives': 1, 'Number of constraints': 3, 'Number of variables': 2, 'Sense': 'unknown'}], 'Solver': [{'Status': 'ok', 'Message': 'Ipopt 3.12.13\\\\x3a Optimal Solution Found', 'Termination condition': 'optimal', 'Id': 0, 'Error rc': 0, 'Time': 0.020710229873657227}], 'Solution': [OrderedDict([('number of solutions', 0), ('number of solutions displayed', 0)])]}"
            ]
          },
          "metadata": {},
          "execution_count": 72
        }
      ]
    },
    {
      "cell_type": "markdown",
      "metadata": {
        "id": "iBONAZy7ubTW"
      },
      "source": [
        "Weergave van het model na optimalisatie"
      ]
    },
    {
      "cell_type": "code",
      "metadata": {
        "colab": {
          "base_uri": "https://localhost:8080/"
        },
        "id": "IU6JQmNLugrb",
        "outputId": "8ce09102-ab3a-4acf-b1b8-4a36c52d663f"
      },
      "source": [
        "model.pprint()\n"
      ],
      "execution_count": 73,
      "outputs": [
        {
          "output_type": "stream",
          "text": [
            "2 Var Declarations\n",
            "    x : Size=1, Index=None\n",
            "        Key  : Lower : Value              : Upper : Fixed : Stale : Domain\n",
            "        None :     0 : 4.3636363975722725 :  None : False : False : NonNegativeReals\n",
            "    y : Size=1, Index=None\n",
            "        Key  : Lower : Value              : Upper : Fixed : Stale : Domain\n",
            "        None :     0 : 0.9090909197452673 :  None : False : False : NonNegativeReals\n",
            "\n",
            "1 Objective Declarations\n",
            "    obj : Size=1, Index=None, Active=True\n",
            "        Key  : Active : Sense    : Expression\n",
            "        None :   True : maximize : x + 3*y\n",
            "\n",
            "3 Constraint Declarations\n",
            "    con1 : Size=1, Index=None, Active=True\n",
            "        Key  : Lower : Body    : Upper : Active\n",
            "        None :  -Inf : x + 2*y :  10.0 :   True\n",
            "    con2 : Size=1, Index=None, Active=True\n",
            "        Key  : Lower : Body    : Upper : Active\n",
            "        None :  -Inf : 3*x + y :  14.0 :   True\n",
            "    con3 : Size=1, Index=None, Active=True\n",
            "        Key  : Lower : Body    : Upper : Active\n",
            "        None :  -Inf : x + 4*y :   8.0 :   True\n",
            "\n",
            "6 Declarations: x y obj con1 con2 con3\n"
          ],
          "name": "stdout"
        }
      ]
    },
    {
      "cell_type": "markdown",
      "metadata": {
        "id": "x1S9qqZUwok_"
      },
      "source": [
        "Weergave van de maximale x- en y-waarde"
      ]
    },
    {
      "cell_type": "code",
      "metadata": {
        "colab": {
          "base_uri": "https://localhost:8080/"
        },
        "id": "E8-pS1ePwwLs",
        "outputId": "b344431c-92ed-409a-ff3b-fec254d8d889"
      },
      "source": [
        "x_value = pyo.value(x)\n",
        "y_value = pyo.value(y)\n",
        "\n",
        "print(\"x :\", x_value)\n",
        "print(\"y :\", y_value)"
      ],
      "execution_count": 74,
      "outputs": [
        {
          "output_type": "stream",
          "text": [
            "x : 4.3636363975722725\n",
            "y : 0.9090909197452673\n"
          ],
          "name": "stdout"
        }
      ]
    }
  ]
}